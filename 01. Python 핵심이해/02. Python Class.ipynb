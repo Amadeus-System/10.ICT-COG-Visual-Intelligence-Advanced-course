{
 "cells": [
  {
   "cell_type": "markdown",
   "metadata": {
    "slideshow": {
     "slide_type": "slide"
    }
   },
   "source": [
    "## 파이썬 클래스의 이해"
   ]
  },
  {
   "cell_type": "code",
   "execution_count": 1,
   "metadata": {
    "slideshow": {
     "slide_type": "slide"
    }
   },
   "outputs": [],
   "source": [
    "# 01 클래스(Class)의 기초\n",
    "\n",
    "class Car(object):\n",
    "    pass"
   ]
  },
  {
   "cell_type": "code",
   "execution_count": 2,
   "metadata": {
    "slideshow": {
     "slide_type": "slide"
    }
   },
   "outputs": [],
   "source": [
    "# 02 클래스(class)의 인스턴스(instance) 생성\n",
    "\n",
    "class Car(object):\n",
    "    pass\n",
    "\n",
    "my_car = Car()"
   ]
  },
  {
   "cell_type": "code",
   "execution_count": 3,
   "metadata": {},
   "outputs": [
    {
     "data": {
      "text/plain": [
       "<__main__.Car at 0x20f02926d08>"
      ]
     },
     "execution_count": 3,
     "metadata": {},
     "output_type": "execute_result"
    }
   ],
   "source": [
    "my_car"
   ]
  },
  {
   "cell_type": "code",
   "execution_count": 4,
   "metadata": {
    "slideshow": {
     "slide_type": "slide"
    }
   },
   "outputs": [],
   "source": [
    "# 03 클래스 맴버 변수(Class member variables)\n",
    "\n",
    "class Car(object):\n",
    "    condition = \"new\"\n",
    "\n",
    "my_car = Car()"
   ]
  },
  {
   "cell_type": "code",
   "execution_count": 5,
   "metadata": {
    "slideshow": {
     "slide_type": "slide"
    }
   },
   "outputs": [
    {
     "name": "stdout",
     "output_type": "stream",
     "text": [
      "new\n"
     ]
    }
   ],
   "source": [
    "# 04 클래스 맴버 변수(Class member variables) 호출하기\n",
    "\n",
    "class Car(object):\n",
    "    condition = \"new\"\n",
    "\n",
    "my_car = Car()\n",
    "print (my_car.condition)"
   ]
  },
  {
   "cell_type": "code",
   "execution_count": 6,
   "metadata": {
    "slideshow": {
     "slide_type": "slide"
    }
   },
   "outputs": [
    {
     "name": "stdout",
     "output_type": "stream",
     "text": [
      "new\n"
     ]
    }
   ],
   "source": [
    "# 05 클래스(Class) 초기화하기\n",
    "\n",
    "class Car(object):\n",
    "    condition = \"new\"\n",
    "    \n",
    "    def __init__(self, model, color, mpg):\n",
    "        self.model = model\n",
    "        self.color = color\n",
    "        self.mpg = mpg\n",
    "\n",
    "my_car = Car(\"DeLorean\", \"silver\", 88)\n",
    "print (my_car.condition)"
   ]
  },
  {
   "cell_type": "code",
   "execution_count": 6,
   "metadata": {
    "slideshow": {
     "slide_type": "slide"
    }
   },
   "outputs": [
    {
     "name": "stdout",
     "output_type": "stream",
     "text": [
      "new\n",
      "DeLorean\n",
      "silver\n",
      "88\n"
     ]
    }
   ],
   "source": [
    "# 06 맴버 변수(member variables) 참조하기\n",
    "\n",
    "class Car(object):\n",
    "    condition = \"new\"\n",
    "    \n",
    "    def __init__(self, model, color, mpg):\n",
    "        self.model = model\n",
    "        self.color = color\n",
    "        self.mpg = mpg\n",
    "\n",
    "my_car = Car(\"DeLorean\", \"silver\", 88)\n",
    "\n",
    "print (my_car.condition)\n",
    "print (my_car.model)\n",
    "print (my_car.color)\n",
    "print (my_car.mpg)"
   ]
  },
  {
   "cell_type": "code",
   "execution_count": 7,
   "metadata": {
    "slideshow": {
     "slide_type": "slide"
    }
   },
   "outputs": [
    {
     "name": "stdout",
     "output_type": "stream",
     "text": [
      "This is a silver DeLorean with 88 MPG.\n"
     ]
    }
   ],
   "source": [
    "# 07 클래스 메소드(method) 생성하기\n",
    "\n",
    "class Car(object):\n",
    "    condition = \"new\"\n",
    "    def __init__(self, model, color, mpg):\n",
    "        self.model = model\n",
    "        self.color = color\n",
    "        self.mpg   = mpg\n",
    "    \n",
    "    def display_car(self):\n",
    "        return \"This is a %s %s with %s MPG.\" % (self.color, self.model, self.mpg)\n",
    "\n",
    "my_car = Car(\"DeLorean\", \"silver\", 88)\n",
    "print (my_car.display_car())"
   ]
  },
  {
   "cell_type": "code",
   "execution_count": 8,
   "metadata": {
    "slideshow": {
     "slide_type": "slide"
    }
   },
   "outputs": [
    {
     "name": "stdout",
     "output_type": "stream",
     "text": [
      "new\n",
      "used\n"
     ]
    }
   ],
   "source": [
    "# 08 맴버 변수(member variables) 수정하기\n",
    "\n",
    "class Car(object):\n",
    "    condition = \"new\"\n",
    "    def __init__(self, model, color, mpg):\n",
    "        self.model = model\n",
    "        self.color = color\n",
    "        self.mpg   = mpg\n",
    "    \n",
    "    def display_car(self):\n",
    "        return \"This is a %s %s with %s MPG.\" % (self.color, self.model, self.mpg)\n",
    "    \n",
    "    def drive_car(self):\n",
    "        self.condition = \"used\"\n",
    "\n",
    "my_car = Car(\"DeLorean\", \"silver\", 88)\n",
    "\n",
    "print (my_car.condition)\n",
    "\n",
    "my_car.drive_car()\n",
    "\n",
    "print (my_car.condition)"
   ]
  },
  {
   "cell_type": "code",
   "execution_count": 10,
   "metadata": {
    "slideshow": {
     "slide_type": "slide"
    }
   },
   "outputs": [
    {
     "data": {
      "text/plain": [
       "'This is a silver DeLorean with 88 MPG.'"
      ]
     },
     "execution_count": 10,
     "metadata": {},
     "output_type": "execute_result"
    }
   ],
   "source": [
    "# 09 상속(Inheritance)\n",
    "\n",
    "class Car(object):\n",
    "    condition = \"new\"\n",
    "    def __init__(self, model, color, mpg):\n",
    "        self.model = model\n",
    "        self.color = color\n",
    "        self.mpg   = mpg\n",
    "    \n",
    "    def display_car(self):\n",
    "        return \"This is a %s %s with %s MPG.\" % (self.color, self.model, self.mpg)\n",
    "    \n",
    "    def drive_car(self):\n",
    "        self.condition = \"used\"\n",
    "\n",
    "class ElectricCar(Car):\n",
    "    def __init__(self, battery_type, model, color, mpg):\n",
    "        self.battery_type = battery_type\n",
    "        self.model = model\n",
    "        self.color = color\n",
    "        self.mpg = mpg\n",
    "\n",
    "my_car = ElectricCar(\"molten salt\", \"DeLorean\", \"silver\", 88)\n",
    "my_car.display_car()"
   ]
  },
  {
   "cell_type": "code",
   "execution_count": 11,
   "metadata": {
    "slideshow": {
     "slide_type": "slide"
    }
   },
   "outputs": [
    {
     "name": "stdout",
     "output_type": "stream",
     "text": [
      "new\n",
      "like new\n"
     ]
    }
   ],
   "source": [
    "# 10 메소드 오버라이드 (Overriding Methods)\n",
    "\n",
    "class Car(object):\n",
    "    condition = \"new\"\n",
    "    def __init__(self, model, color, mpg):\n",
    "        self.model = model\n",
    "        self.color = color\n",
    "        self.mpg   = mpg\n",
    "    \n",
    "    def display_car(self):\n",
    "        return \"This is a %s %s with %s MPG.\" % (self.color, self.model, self.mpg)\n",
    "    \n",
    "    def drive_car(self):\n",
    "        self.condition = \"used\"\n",
    "\n",
    "class ElectricCar(Car):\n",
    "    def __init__(self, battery_type, model, color, mpg):\n",
    "        self.battery_type = battery_type\n",
    "        self.model = model\n",
    "        self.color = color\n",
    "        self.mpg = mpg\n",
    "    \n",
    "    def drive_car(self):\n",
    "        self.condition = \"like new\"\n",
    "\n",
    "my_car = ElectricCar(\"molten salt\", \"DeLorean\", \"silver\", 88)\n",
    "\n",
    "print (my_car.condition)\n",
    "\n",
    "my_car.drive_car()\n",
    "\n",
    "print (my_car.condition)"
   ]
  },
  {
   "cell_type": "markdown",
   "metadata": {},
   "source": [
    "[Quiz] \n",
    "1. display_car에 대해 배터리 타입도 출력하게 한다.\n",
    "2. 차를 10번 운행하면 condition이 \"used\"로 바뀌도록 한다."
   ]
  },
  {
   "cell_type": "code",
   "execution_count": 22,
   "metadata": {
    "slideshow": {
     "slide_type": "slide"
    }
   },
   "outputs": [],
   "source": [
    "class ElectricCar(Car):\n",
    "    drivingCnt = 0\n",
    "    def __init__(self, battery_type, model, color, mpkw):\n",
    "        self.battery_type = battery_type\n",
    "        self.model = model\n",
    "        self.color = color\n",
    "        self.mpkw = mpkw\n",
    "    \n",
    "    def display_car(self):\n",
    "        return \"This is a %s electric %s with %.1f MPkW using %s.\" % \\\n",
    "            (self.color, self.model, self.mpkw, self.battery_type)\n",
    "    \n",
    "    def drive_car(self):\n",
    "        self.drivingCnt += 1\n",
    "        if self.drivingCnt < 10:\n",
    "            self.condition = \"like new\"\n",
    "        else: self.condition = \"used\""
   ]
  },
  {
   "cell_type": "code",
   "execution_count": 23,
   "metadata": {},
   "outputs": [
    {
     "name": "stdout",
     "output_type": "stream",
     "text": [
      "This is a blue electric i60 with 6.3 MPkW using molten salt.\n"
     ]
    },
    {
     "data": {
      "text/plain": [
       "'new'"
      ]
     },
     "execution_count": 23,
     "metadata": {},
     "output_type": "execute_result"
    }
   ],
   "source": [
    "mycar = ElectricCar(\"molten salt\", \"i60\", \"blue\", 6.3)\n",
    "print(mycar.display_car())\n",
    "mycar.condition"
   ]
  },
  {
   "cell_type": "code",
   "execution_count": 24,
   "metadata": {},
   "outputs": [
    {
     "name": "stdout",
     "output_type": "stream",
     "text": [
      "like new\n",
      "like new\n",
      "like new\n",
      "like new\n",
      "like new\n",
      "like new\n",
      "like new\n",
      "like new\n",
      "like new\n",
      "used\n",
      "used\n"
     ]
    }
   ],
   "source": [
    "for _ in range(10):\n",
    "    mycar.drive_car()\n",
    "    print(mycar.condition)"
   ]
  },
  {
   "cell_type": "code",
   "execution_count": 21,
   "metadata": {},
   "outputs": [
    {
     "data": {
      "text/plain": [
       "'like new'"
      ]
     },
     "execution_count": 21,
     "metadata": {},
     "output_type": "execute_result"
    }
   ],
   "source": [
    "mycar.drive_car()\n",
    "mycar.condition"
   ]
  },
  {
   "cell_type": "code",
   "execution_count": 11,
   "metadata": {
    "slideshow": {
     "slide_type": "slide"
    }
   },
   "outputs": [
    {
     "name": "stdout",
     "output_type": "stream",
     "text": [
      "(1, 2, 3)\n"
     ]
    }
   ],
   "source": [
    "# 11 유용한 클래스(Classes) 만들기\n",
    "\n",
    "class Point3D(object):\n",
    "    def __init__(self, x, y, z):\n",
    "        self.x = x\n",
    "        self.y = y\n",
    "        self.z = z\n",
    "    \n",
    "    def __repr__(self):\n",
    "        return \"(%s, %s, %s)\" % (self.x, self.y, self.z)\n",
    "\n",
    "my_point = Point3D(1, 2, 3)\n",
    "print (my_point)"
   ]
  }
 ],
 "metadata": {
  "celltoolbar": "Slideshow",
  "kernelspec": {
   "display_name": "Python 3",
   "language": "python",
   "name": "python3"
  },
  "language_info": {
   "codemirror_mode": {
    "name": "ipython",
    "version": 3
   },
   "file_extension": ".py",
   "mimetype": "text/x-python",
   "name": "python",
   "nbconvert_exporter": "python",
   "pygments_lexer": "ipython3",
   "version": "3.7.6"
  }
 },
 "nbformat": 4,
 "nbformat_minor": 1
}
